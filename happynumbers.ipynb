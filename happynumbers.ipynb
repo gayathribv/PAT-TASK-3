{
 "cells": [
  {
   "cell_type": "code",
   "execution_count": 21,
   "metadata": {},
   "outputs": [
    {
     "ename": "RecursionError",
     "evalue": "maximum recursion depth exceeded",
     "output_type": "error",
     "traceback": [
      "\u001b[1;31m---------------------------------------------------------------------------\u001b[0m",
      "\u001b[1;31mRecursionError\u001b[0m                            Traceback (most recent call last)",
      "Cell \u001b[1;32mIn[21], line 16\u001b[0m\n\u001b[0;32m     14\u001b[0m \u001b[38;5;28;01mfor\u001b[39;00m i \u001b[38;5;129;01min\u001b[39;00m lst:\n\u001b[0;32m     15\u001b[0m     flag\u001b[38;5;241m=\u001b[39m\u001b[38;5;241m0\u001b[39m\n\u001b[1;32m---> 16\u001b[0m     happynum\u001b[38;5;241m=\u001b[39m\u001b[43maddnumsq\u001b[49m\u001b[43m(\u001b[49m\u001b[43mi\u001b[49m\u001b[43m,\u001b[49m\u001b[43mflag\u001b[49m\u001b[43m)\u001b[49m\n\u001b[0;32m     17\u001b[0m     \u001b[38;5;28;01mif\u001b[39;00m happynum \u001b[38;5;241m==\u001b[39m \u001b[38;5;241m1\u001b[39m:\n\u001b[0;32m     18\u001b[0m         \u001b[38;5;28mprint\u001b[39m(i, \u001b[38;5;124m\"\u001b[39m\u001b[38;5;124mis a happy number\u001b[39m\u001b[38;5;124m\"\u001b[39m)\n",
      "Cell \u001b[1;32mIn[21], line 12\u001b[0m, in \u001b[0;36maddnumsq\u001b[1;34m(num, flag)\u001b[0m\n\u001b[0;32m     10\u001b[0m     \u001b[38;5;28;01mreturn\u001b[39;00m num    \n\u001b[0;32m     11\u001b[0m \u001b[38;5;28;01melse\u001b[39;00m:\n\u001b[1;32m---> 12\u001b[0m     \u001b[38;5;28;01mreturn\u001b[39;00m \u001b[43maddnumsq\u001b[49m\u001b[43m(\u001b[49m\u001b[43msumofsquares\u001b[49m\u001b[43m,\u001b[49m\u001b[43mflag\u001b[49m\u001b[43m)\u001b[49m\n",
      "Cell \u001b[1;32mIn[21], line 12\u001b[0m, in \u001b[0;36maddnumsq\u001b[1;34m(num, flag)\u001b[0m\n\u001b[0;32m     10\u001b[0m     \u001b[38;5;28;01mreturn\u001b[39;00m num    \n\u001b[0;32m     11\u001b[0m \u001b[38;5;28;01melse\u001b[39;00m:\n\u001b[1;32m---> 12\u001b[0m     \u001b[38;5;28;01mreturn\u001b[39;00m \u001b[43maddnumsq\u001b[49m\u001b[43m(\u001b[49m\u001b[43msumofsquares\u001b[49m\u001b[43m,\u001b[49m\u001b[43mflag\u001b[49m\u001b[43m)\u001b[49m\n",
      "    \u001b[1;31m[... skipping similar frames: addnumsq at line 12 (2974 times)]\u001b[0m\n",
      "Cell \u001b[1;32mIn[21], line 12\u001b[0m, in \u001b[0;36maddnumsq\u001b[1;34m(num, flag)\u001b[0m\n\u001b[0;32m     10\u001b[0m     \u001b[38;5;28;01mreturn\u001b[39;00m num    \n\u001b[0;32m     11\u001b[0m \u001b[38;5;28;01melse\u001b[39;00m:\n\u001b[1;32m---> 12\u001b[0m     \u001b[38;5;28;01mreturn\u001b[39;00m \u001b[43maddnumsq\u001b[49m\u001b[43m(\u001b[49m\u001b[43msumofsquares\u001b[49m\u001b[43m,\u001b[49m\u001b[43mflag\u001b[49m\u001b[43m)\u001b[49m\n",
      "\u001b[1;31mRecursionError\u001b[0m: maximum recursion depth exceeded"
     ]
    }
   ],
   "source": [
    "lst=[10,501,22,37,100,999,87,351]\n",
    "def addnumsq(num,flag):\n",
    "    if flag == 0:\n",
    "        flag=1\n",
    "    numstr=str(num)\n",
    "    sumofsquares=0\n",
    "    for i in numstr:\n",
    "        sumofsquares=sumofsquares+int(i)**2\n",
    "        if sumofsquares == 1:\n",
    "            return num    \n",
    "        else:\n",
    "            return addnumsq(sumofsquares,flag)\n",
    "\n",
    "for i in lst:\n",
    "    flag=0\n",
    "    happynum=addnumsq(i,flag)\n",
    "    if happynum == 1:\n",
    "        print(i, \"is a happy number\")\n",
    "    "
   ]
  }
 ],
 "metadata": {
  "kernelspec": {
   "display_name": "Python 3",
   "language": "python",
   "name": "python3"
  },
  "language_info": {
   "codemirror_mode": {
    "name": "ipython",
    "version": 3
   },
   "file_extension": ".py",
   "mimetype": "text/x-python",
   "name": "python",
   "nbconvert_exporter": "python",
   "pygments_lexer": "ipython3",
   "version": "3.12.6"
  }
 },
 "nbformat": 4,
 "nbformat_minor": 2
}
