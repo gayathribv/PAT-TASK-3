{
 "cells": [
  {
   "cell_type": "code",
   "execution_count": 1,
   "metadata": {},
   "outputs": [
    {
     "name": "stdout",
     "output_type": "stream",
     "text": [
      "even numbers list [10, 22, 100]\n",
      "odd_numbers list [501, 37, 999, 87, 351]\n"
     ]
    }
   ],
   "source": [
    "lst=[10,501,22,37,100,999,87,351]\n",
    "lst_even=[]\n",
    "lst_odd=[]\n",
    "for i in lst:\n",
    "    if i % 2 == 0:\n",
    "        lst_even.append(i)\n",
    "    else:\n",
    "        lst_odd.append(i)\n",
    "\n",
    "print(\"even numbers list\",lst_even)\n",
    "print(\"odd_numbers list\", lst_odd)"
   ]
  }
 ],
 "metadata": {
  "kernelspec": {
   "display_name": "Python 3",
   "language": "python",
   "name": "python3"
  },
  "language_info": {
   "codemirror_mode": {
    "name": "ipython",
    "version": 3
   },
   "file_extension": ".py",
   "mimetype": "text/x-python",
   "name": "python",
   "nbconvert_exporter": "python",
   "pygments_lexer": "ipython3",
   "version": "3.12.6"
  }
 },
 "nbformat": 4,
 "nbformat_minor": 2
}
