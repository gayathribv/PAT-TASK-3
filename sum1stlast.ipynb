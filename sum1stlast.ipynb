{
 "cells": [
  {
   "cell_type": "code",
   "execution_count": 5,
   "metadata": {},
   "outputs": [
    {
     "name": "stdout",
     "output_type": "stream",
     "text": [
      "sum of first and last integer of 456789 is 49\n"
     ]
    }
   ],
   "source": [
    "\"\"\"Python program to find the sum of first and \n",
    "last digit of an integer\n",
    "\"\"\"\n",
    "sumint=input(\"Enter the number:\")\n",
    "first=int(str(sumint)[0])\n",
    "last=int(str(sumint)[(len(str(sumint))-1)])\n",
    "print(\"sum of first and last integer of\", sumint, \"is\", first+last)"
   ]
  }
 ],
 "metadata": {
  "kernelspec": {
   "display_name": "Python 3",
   "language": "python",
   "name": "python3"
  },
  "language_info": {
   "codemirror_mode": {
    "name": "ipython",
    "version": 3
   },
   "file_extension": ".py",
   "mimetype": "text/x-python",
   "name": "python",
   "nbconvert_exporter": "python",
   "pygments_lexer": "ipython3",
   "version": "3.12.6"
  }
 },
 "nbformat": 4,
 "nbformat_minor": 2
}
